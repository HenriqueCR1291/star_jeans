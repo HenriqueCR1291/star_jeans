{
 "cells": [
  {
   "cell_type": "code",
   "execution_count": 3,
   "metadata": {
    "ExecuteTime": {
     "end_time": "2021-09-17T15:22:33.299699Z",
     "start_time": "2021-09-17T15:21:20.832766Z"
    }
   },
   "outputs": [
    {
     "name": "stdout",
     "output_type": "stream",
     "text": [
      "Requirement already satisfied: sqlalchemy in c:\\users\\henrique\\anaconda3\\lib\\site-packages (1.3.20)\n"
     ]
    },
    {
     "name": "stderr",
     "output_type": "stream",
     "text": [
      "ERROR: Could not find a version that satisfies the requirement sqlite3 (from versions: none)\n",
      "ERROR: No matching distribution found for sqlite3\n",
      "ERROR: Could not find a version that satisfies the requirement sqlite3 (from versions: none)\n",
      "ERROR: No matching distribution found for sqlite3\n"
     ]
    },
    {
     "name": "stdout",
     "output_type": "stream",
     "text": [
      "Requirement already satisfied: sqlalchemy in c:\\users\\henrique\\anaconda3\\lib\\site-packages (1.3.20)\n",
      "Requirement already satisfied: beautifulsoup4 in c:\\users\\henrique\\anaconda3\\lib\\site-packages (4.9.3)\n",
      "Requirement already satisfied: soupsieve>1.2; python_version >= \"3.0\" in c:\\users\\henrique\\anaconda3\\lib\\site-packages (from beautifulsoup4) (2.0.1)\n"
     ]
    }
   ],
   "source": [
    "#!pip install sqlite3\n",
    "#!pip install sqlalchemy\n",
    "#!pip install beautifulsoup4"
   ]
  },
  {
   "cell_type": "code",
   "execution_count": 4,
   "metadata": {
    "ExecuteTime": {
     "end_time": "2021-09-17T15:22:51.169542Z",
     "start_time": "2021-09-17T15:22:33.302699Z"
    }
   },
   "outputs": [],
   "source": [
    "import requests\n",
    "from bs4 import BeautifulSoup\n",
    "from datetime import datetime\n",
    "import pandas as pd\n",
    "import numpy as np\n",
    "import re\n",
    "import sqlite3\n",
    "from sqlalchemy import create_engine"
   ]
  },
  {
   "cell_type": "code",
   "execution_count": 15,
   "metadata": {
    "ExecuteTime": {
     "end_time": "2021-09-17T22:15:26.274352Z",
     "start_time": "2021-09-17T22:15:26.255366Z"
    }
   },
   "outputs": [],
   "source": [
    "db = create_engine ('sqlite:///db_olist.sqlite', echo=False)\n",
    "conn = db.connect()"
   ]
  },
  {
   "cell_type": "markdown",
   "metadata": {},
   "source": [
    "# Customer DB"
   ]
  },
  {
   "cell_type": "code",
   "execution_count": 21,
   "metadata": {
    "ExecuteTime": {
     "end_time": "2021-09-17T22:20:21.352031Z",
     "start_time": "2021-09-17T22:20:21.138523Z"
    }
   },
   "outputs": [
    {
     "data": {
      "text/plain": [
       "customer_id                 object\n",
       "customer_unique_id          object\n",
       "customer_zip_code_prefix     int64\n",
       "customer_city               object\n",
       "customer_state              object\n",
       "dtype: object"
      ]
     },
     "execution_count": 21,
     "metadata": {},
     "output_type": "execute_result"
    }
   ],
   "source": [
    "#dataset\n",
    "df_customer = pd.read_csv('olist_customers_dataset.csv')\n",
    "#df_customer.head()\n",
    "df_customer.dtypes"
   ]
  },
  {
   "cell_type": "code",
   "execution_count": 20,
   "metadata": {
    "ExecuteTime": {
     "end_time": "2021-09-17T22:19:22.308779Z",
     "start_time": "2021-09-17T22:19:20.332972Z"
    }
   },
   "outputs": [],
   "source": [
    "schema_customer = \"\"\"\n",
    "CREATE TABLE customer(\n",
    "    customer_id                   TEXT,\n",
    "    customer_unique_id            TEXT,\n",
    "    customer_zip_code_prefix      INTEGER,\n",
    "    customer_city                 TEXT,\n",
    "    customer_state                TEXT)\n",
    "\"\"\"\n",
    "\n",
    "#create schema\n",
    "#conn.execute(schema_customer)\n",
    "\n",
    "#insert data into table\n",
    "df_customer.to_sql('customer', con=conn, if_exists='append', index=False)"
   ]
  },
  {
   "cell_type": "markdown",
   "metadata": {},
   "source": [
    "# Geolocation DB"
   ]
  },
  {
   "cell_type": "code",
   "execution_count": 24,
   "metadata": {
    "ExecuteTime": {
     "end_time": "2021-09-17T22:28:17.434538Z",
     "start_time": "2021-09-17T22:28:16.141487Z"
    }
   },
   "outputs": [
    {
     "data": {
      "text/plain": [
       "geolocation_zip_code_prefix      int64\n",
       "geolocation_lat                float64\n",
       "geolocation_lng                float64\n",
       "geolocation_city                object\n",
       "geolocation_state               object\n",
       "dtype: object"
      ]
     },
     "execution_count": 24,
     "metadata": {},
     "output_type": "execute_result"
    }
   ],
   "source": [
    "#dataset\n",
    "df_geolocation = pd.read_csv('olist_geolocation_dataset.csv')\n",
    "#df_geolocation.head()\n",
    "df_geolocation.dtypes"
   ]
  },
  {
   "cell_type": "code",
   "execution_count": 26,
   "metadata": {
    "ExecuteTime": {
     "end_time": "2021-09-17T22:30:06.472183Z",
     "start_time": "2021-09-17T22:29:49.584535Z"
    }
   },
   "outputs": [],
   "source": [
    "schema_geolocation = \"\"\"\n",
    "CREATE TABLE geolocation(\n",
    "    geolocation_zip_code_prefix      INTEGER,\n",
    "    geolocation_lat                  REAL,\n",
    "    geolocation_lng                  REAL,\n",
    "    geolocation_city                 TEXT,\n",
    "    geolocation_state                TEXT)\n",
    "\"\"\"\n",
    "\n",
    "#create schema\n",
    "conn.execute(schema_geolocation)\n",
    "\n",
    "#insert data into table\n",
    "df_geolocation.to_sql('geolocation', con=conn, if_exists='append', index=False)"
   ]
  },
  {
   "cell_type": "markdown",
   "metadata": {},
   "source": [
    "# Order list DB"
   ]
  },
  {
   "cell_type": "code",
   "execution_count": 27,
   "metadata": {
    "ExecuteTime": {
     "end_time": "2021-09-17T22:32:54.421272Z",
     "start_time": "2021-09-17T22:32:53.824298Z"
    }
   },
   "outputs": [
    {
     "data": {
      "text/plain": [
       "order_id                object\n",
       "order_item_id            int64\n",
       "product_id              object\n",
       "seller_id               object\n",
       "shipping_limit_date     object\n",
       "price                  float64\n",
       "freight_value          float64\n",
       "dtype: object"
      ]
     },
     "execution_count": 27,
     "metadata": {},
     "output_type": "execute_result"
    }
   ],
   "source": [
    "#dataset\n",
    "df_order_items = pd.read_csv('olist_order_items_dataset.csv')\n",
    "#df_order_items.head()\n",
    "df_order_items.dtypes"
   ]
  },
  {
   "cell_type": "code",
   "execution_count": 28,
   "metadata": {
    "ExecuteTime": {
     "end_time": "2021-09-17T22:34:06.086180Z",
     "start_time": "2021-09-17T22:34:03.430696Z"
    }
   },
   "outputs": [],
   "source": [
    "schema_order_items = \"\"\"\n",
    "CREATE TABLE order_items(\n",
    "    order_id                TEXT,\n",
    "    order_item_id           INTEGER,\n",
    "    product_id              TEXT,\n",
    "    seller_id               TEXT,\n",
    "    shipping_limit_date     TEXT,\n",
    "    price                   REAL,\n",
    "    freight_value           REAL)\n",
    "\"\"\"\n",
    "\n",
    "#create schema\n",
    "conn.execute(schema_order_items)\n",
    "\n",
    "#insert data into table\n",
    "df_order_items.to_sql('order_items', con=conn, if_exists='append', index=False)"
   ]
  },
  {
   "cell_type": "markdown",
   "metadata": {},
   "source": [
    "# Orders Payments DB"
   ]
  },
  {
   "cell_type": "code",
   "execution_count": 29,
   "metadata": {
    "ExecuteTime": {
     "end_time": "2021-09-17T22:35:17.238789Z",
     "start_time": "2021-09-17T22:35:16.848854Z"
    }
   },
   "outputs": [
    {
     "data": {
      "text/plain": [
       "order_id                 object\n",
       "payment_sequential        int64\n",
       "payment_type             object\n",
       "payment_installments      int64\n",
       "payment_value           float64\n",
       "dtype: object"
      ]
     },
     "execution_count": 29,
     "metadata": {},
     "output_type": "execute_result"
    }
   ],
   "source": [
    "#dataset\n",
    "df_order_payments = pd.read_csv('olist_order_payments_dataset.csv')\n",
    "#df_order_payments.head()\n",
    "df_order_payments.dtypes"
   ]
  },
  {
   "cell_type": "code",
   "execution_count": 30,
   "metadata": {
    "ExecuteTime": {
     "end_time": "2021-09-17T22:36:02.519914Z",
     "start_time": "2021-09-17T22:36:00.951465Z"
    }
   },
   "outputs": [],
   "source": [
    "schema_order_payments = \"\"\"\n",
    "CREATE TABLE order_payments(\n",
    "    order_id                 TEXT,\n",
    "    payment_sequential       INTEGER,\n",
    "    payment_type             TEXT,\n",
    "    payment_installments     INTEGER,\n",
    "    payment_value            REAL)\n",
    "\"\"\"\n",
    "\n",
    "#create schema\n",
    "conn.execute(schema_order_payments)\n",
    "\n",
    "#insert data into table\n",
    "df_order_payments.to_sql('order_payments', con=conn, if_exists='append', index=False)"
   ]
  },
  {
   "cell_type": "markdown",
   "metadata": {},
   "source": [
    "# Order Review DB"
   ]
  },
  {
   "cell_type": "code",
   "execution_count": 41,
   "metadata": {
    "ExecuteTime": {
     "end_time": "2021-09-17T22:40:59.984502Z",
     "start_time": "2021-09-17T22:40:59.573655Z"
    }
   },
   "outputs": [
    {
     "data": {
      "text/plain": [
       "review_id                  object\n",
       "order_id                   object\n",
       "review_score                int64\n",
       "review_comment_title       object\n",
       "review_comment_message     object\n",
       "review_creation_date       object\n",
       "review_answer_timestamp    object\n",
       "dtype: object"
      ]
     },
     "execution_count": 41,
     "metadata": {},
     "output_type": "execute_result"
    }
   ],
   "source": [
    "#dataset\n",
    "df_order_reviews = pd.read_csv('olist_order_reviews_dataset.csv')\n",
    "#df_order_reviews.head()\n",
    "df_order_reviews.dtypes"
   ]
  },
  {
   "cell_type": "code",
   "execution_count": 42,
   "metadata": {
    "ExecuteTime": {
     "end_time": "2021-09-17T22:41:02.242915Z",
     "start_time": "2021-09-17T22:41:00.935405Z"
    }
   },
   "outputs": [],
   "source": [
    "schema_order_reviews = \"\"\"\n",
    "CREATE TABLE order_reviews(\n",
    "    review_id                  TEXT,\n",
    "    order_id                    TEXT,\n",
    "    review_score                INTEGER,\n",
    "    review_comment_title        TEXT,\n",
    "    review_comment_message      TEXT,\n",
    "    review_creation_date        TEXT,\n",
    "    review_answer_timestamp     TEXT)\n",
    "\"\"\"\n",
    "\n",
    "#create schema\n",
    "conn.execute(schema_order_reviews)\n",
    "\n",
    "#insert data into table\n",
    "df_order_reviews.to_sql('order_reviews', con=conn, if_exists='append', index=False)"
   ]
  },
  {
   "cell_type": "markdown",
   "metadata": {},
   "source": [
    "# Orders"
   ]
  },
  {
   "cell_type": "code",
   "execution_count": 43,
   "metadata": {
    "ExecuteTime": {
     "end_time": "2021-09-17T22:42:07.125474Z",
     "start_time": "2021-09-17T22:42:06.394176Z"
    }
   },
   "outputs": [
    {
     "data": {
      "text/plain": [
       "order_id                         object\n",
       "customer_id                      object\n",
       "order_status                     object\n",
       "order_purchase_timestamp         object\n",
       "order_approved_at                object\n",
       "order_delivered_carrier_date     object\n",
       "order_delivered_customer_date    object\n",
       "order_estimated_delivery_date    object\n",
       "dtype: object"
      ]
     },
     "execution_count": 43,
     "metadata": {},
     "output_type": "execute_result"
    }
   ],
   "source": [
    "#dataset\n",
    "df_orders = pd.read_csv('olist_orders_dataset.csv')\n",
    "#df_orders.head()\n",
    "df_orders.dtypes"
   ]
  },
  {
   "cell_type": "code",
   "execution_count": 45,
   "metadata": {
    "ExecuteTime": {
     "end_time": "2021-09-17T22:47:02.053738Z",
     "start_time": "2021-09-17T22:47:00.317349Z"
    }
   },
   "outputs": [],
   "source": [
    "schema_orders = \"\"\"\n",
    "CREATE TABLE orders(\n",
    "    order_id                         TEXT,\n",
    "    customer_id                      TEXT,\n",
    "    order_status                     TEXT,\n",
    "    order_purchase_timestamp         TEXT,\n",
    "    order_approved_at                TEXT,\n",
    "    order_delivered_carrier_date     TEXT,\n",
    "    order_delivered_customer_date    TEXT,\n",
    "    order_estimated_delivery_date    TEXT)\n",
    "\"\"\"\n",
    "\n",
    "#create schema\n",
    "conn.execute(schema_orders)\n",
    "\n",
    "#insert data into table\n",
    "df_orders.to_sql('orders', con=conn, if_exists='append', index=False)"
   ]
  },
  {
   "cell_type": "markdown",
   "metadata": {},
   "source": [
    "# Products DB"
   ]
  },
  {
   "cell_type": "code",
   "execution_count": 46,
   "metadata": {
    "ExecuteTime": {
     "end_time": "2021-09-17T22:49:35.634785Z",
     "start_time": "2021-09-17T22:49:35.165920Z"
    }
   },
   "outputs": [
    {
     "data": {
      "text/plain": [
       "product_id                     object\n",
       "product_category_name          object\n",
       "product_name_lenght           float64\n",
       "product_description_lenght    float64\n",
       "product_photos_qty            float64\n",
       "product_weight_g              float64\n",
       "product_length_cm             float64\n",
       "product_height_cm             float64\n",
       "product_width_cm              float64\n",
       "dtype: object"
      ]
     },
     "execution_count": 46,
     "metadata": {},
     "output_type": "execute_result"
    }
   ],
   "source": [
    "#dataset\n",
    "df_products = pd.read_csv('olist_products_dataset.csv')\n",
    "#df_products.head()\n",
    "df_products.dtypes"
   ]
  },
  {
   "cell_type": "code",
   "execution_count": 47,
   "metadata": {
    "ExecuteTime": {
     "end_time": "2021-09-17T22:50:31.427600Z",
     "start_time": "2021-09-17T22:50:30.574841Z"
    }
   },
   "outputs": [],
   "source": [
    "schema_products = \"\"\"\n",
    "CREATE TABLE products(\n",
    "    product_id                     TEXT,\n",
    "    product_category_name          TEXT,\n",
    "    product_name_lenght            REAL,\n",
    "    product_description_lenght     REAL,\n",
    "    product_photos_qty             REAL,\n",
    "    product_weight_g               REAL,\n",
    "    product_length_cm              REAL,\n",
    "    product_height_cm              REAL,\n",
    "    product_width_cm               REAL)\n",
    "\"\"\"\n",
    "\n",
    "#create schema\n",
    "conn.execute(schema_products)\n",
    "\n",
    "#insert data into table\n",
    "df_products.to_sql('products', con=conn, if_exists='append', index=False)"
   ]
  },
  {
   "cell_type": "markdown",
   "metadata": {},
   "source": [
    "# Sellers DB"
   ]
  },
  {
   "cell_type": "code",
   "execution_count": 48,
   "metadata": {
    "ExecuteTime": {
     "end_time": "2021-09-17T22:51:28.862353Z",
     "start_time": "2021-09-17T22:51:28.750787Z"
    }
   },
   "outputs": [
    {
     "data": {
      "text/plain": [
       "seller_id                 object\n",
       "seller_zip_code_prefix     int64\n",
       "seller_city               object\n",
       "seller_state              object\n",
       "dtype: object"
      ]
     },
     "execution_count": 48,
     "metadata": {},
     "output_type": "execute_result"
    }
   ],
   "source": [
    "#dataset\n",
    "df_sellers = pd.read_csv('olist_sellers_dataset.csv')\n",
    "#df_sellers.head()\n",
    "df_sellers.dtypes"
   ]
  },
  {
   "cell_type": "code",
   "execution_count": 49,
   "metadata": {
    "ExecuteTime": {
     "end_time": "2021-09-17T22:51:59.609352Z",
     "start_time": "2021-09-17T22:51:59.228233Z"
    }
   },
   "outputs": [],
   "source": [
    "schema_sellers = \"\"\"\n",
    "CREATE TABLE sellers(\n",
    "    seller_id                 TEXT,\n",
    "    seller_zip_code_prefix    INTEGER,\n",
    "    seller_city               TEXT,\n",
    "    seller_state              TEXT)\n",
    "\"\"\"\n",
    "\n",
    "#create schema\n",
    "conn.execute(schema_sellers)\n",
    "\n",
    "#insert data into table\n",
    "df_sellers.to_sql('sellers', con=conn, if_exists='append', index=False)"
   ]
  },
  {
   "cell_type": "markdown",
   "metadata": {},
   "source": [
    "# Product Category DB"
   ]
  },
  {
   "cell_type": "code",
   "execution_count": 50,
   "metadata": {
    "ExecuteTime": {
     "end_time": "2021-09-17T22:53:04.161293Z",
     "start_time": "2021-09-17T22:53:03.781545Z"
    }
   },
   "outputs": [
    {
     "data": {
      "text/plain": [
       "product_category_name            object\n",
       "product_category_name_english    object\n",
       "dtype: object"
      ]
     },
     "execution_count": 50,
     "metadata": {},
     "output_type": "execute_result"
    }
   ],
   "source": [
    "#dataset\n",
    "df_product_category = pd.read_csv('product_category_name_translation.csv')\n",
    "#df_product_category.head()\n",
    "df_product_category.dtypes"
   ]
  },
  {
   "cell_type": "code",
   "execution_count": 51,
   "metadata": {
    "ExecuteTime": {
     "end_time": "2021-09-17T22:53:25.724794Z",
     "start_time": "2021-09-17T22:53:25.332388Z"
    }
   },
   "outputs": [],
   "source": [
    "schema_product_category = \"\"\"\n",
    "CREATE TABLE product_category(\n",
    "    product_category_name            TEXT,\n",
    "    product_category_name_english    TEXT)\n",
    "\"\"\"\n",
    "\n",
    "#create schema\n",
    "conn.execute(schema_product_category)\n",
    "\n",
    "#insert data into table\n",
    "df_product_category.to_sql('product_category', con=conn, if_exists='append', index=False)"
   ]
  },
  {
   "cell_type": "markdown",
   "metadata": {},
   "source": [
    "# CHECK DATABASE"
   ]
  },
  {
   "cell_type": "code",
   "execution_count": 23,
   "metadata": {
    "ExecuteTime": {
     "end_time": "2021-09-17T22:21:33.439559Z",
     "start_time": "2021-09-17T22:21:32.910196Z"
    }
   },
   "outputs": [
    {
     "data": {
      "text/html": [
       "<div>\n",
       "<style scoped>\n",
       "    .dataframe tbody tr th:only-of-type {\n",
       "        vertical-align: middle;\n",
       "    }\n",
       "\n",
       "    .dataframe tbody tr th {\n",
       "        vertical-align: top;\n",
       "    }\n",
       "\n",
       "    .dataframe thead th {\n",
       "        text-align: right;\n",
       "    }\n",
       "</style>\n",
       "<table border=\"1\" class=\"dataframe\">\n",
       "  <thead>\n",
       "    <tr style=\"text-align: right;\">\n",
       "      <th></th>\n",
       "      <th>customer_id</th>\n",
       "      <th>customer_unique_id</th>\n",
       "      <th>customer_zip_code_prefix</th>\n",
       "      <th>customer_city</th>\n",
       "      <th>customer_state</th>\n",
       "    </tr>\n",
       "  </thead>\n",
       "  <tbody>\n",
       "    <tr>\n",
       "      <th>0</th>\n",
       "      <td>06b8999e2fba1a1fbc88172c00ba8bc7</td>\n",
       "      <td>861eff4711a542e4b93843c6dd7febb0</td>\n",
       "      <td>14409</td>\n",
       "      <td>franca</td>\n",
       "      <td>SP</td>\n",
       "    </tr>\n",
       "    <tr>\n",
       "      <th>1</th>\n",
       "      <td>18955e83d337fd6b2def6b18a428ac77</td>\n",
       "      <td>290c77bc529b7ac935b93aa66c333dc3</td>\n",
       "      <td>9790</td>\n",
       "      <td>sao bernardo do campo</td>\n",
       "      <td>SP</td>\n",
       "    </tr>\n",
       "    <tr>\n",
       "      <th>2</th>\n",
       "      <td>4e7b3e00288586ebd08712fdd0374a03</td>\n",
       "      <td>060e732b5b29e8181a18229c7b0b2b5e</td>\n",
       "      <td>1151</td>\n",
       "      <td>sao paulo</td>\n",
       "      <td>SP</td>\n",
       "    </tr>\n",
       "    <tr>\n",
       "      <th>3</th>\n",
       "      <td>b2b6027bc5c5109e529d4dc6358b12c3</td>\n",
       "      <td>259dac757896d24d7702b9acbbff3f3c</td>\n",
       "      <td>8775</td>\n",
       "      <td>mogi das cruzes</td>\n",
       "      <td>SP</td>\n",
       "    </tr>\n",
       "    <tr>\n",
       "      <th>4</th>\n",
       "      <td>4f2d8ab171c80ec8364f7c12e35b23ad</td>\n",
       "      <td>345ecd01c38d18a9036ed96c73b8d066</td>\n",
       "      <td>13056</td>\n",
       "      <td>campinas</td>\n",
       "      <td>SP</td>\n",
       "    </tr>\n",
       "    <tr>\n",
       "      <th>...</th>\n",
       "      <td>...</td>\n",
       "      <td>...</td>\n",
       "      <td>...</td>\n",
       "      <td>...</td>\n",
       "      <td>...</td>\n",
       "    </tr>\n",
       "    <tr>\n",
       "      <th>99436</th>\n",
       "      <td>17ddf5dd5d51696bb3d7c6291687be6f</td>\n",
       "      <td>1a29b476fee25c95fbafc67c5ac95cf8</td>\n",
       "      <td>3937</td>\n",
       "      <td>sao paulo</td>\n",
       "      <td>SP</td>\n",
       "    </tr>\n",
       "    <tr>\n",
       "      <th>99437</th>\n",
       "      <td>e7b71a9017aa05c9a7fd292d714858e8</td>\n",
       "      <td>d52a67c98be1cf6a5c84435bd38d095d</td>\n",
       "      <td>6764</td>\n",
       "      <td>taboao da serra</td>\n",
       "      <td>SP</td>\n",
       "    </tr>\n",
       "    <tr>\n",
       "      <th>99438</th>\n",
       "      <td>5e28dfe12db7fb50a4b2f691faecea5e</td>\n",
       "      <td>e9f50caf99f032f0bf3c55141f019d99</td>\n",
       "      <td>60115</td>\n",
       "      <td>fortaleza</td>\n",
       "      <td>CE</td>\n",
       "    </tr>\n",
       "    <tr>\n",
       "      <th>99439</th>\n",
       "      <td>56b18e2166679b8a959d72dd06da27f9</td>\n",
       "      <td>73c2643a0a458b49f58cea58833b192e</td>\n",
       "      <td>92120</td>\n",
       "      <td>canoas</td>\n",
       "      <td>RS</td>\n",
       "    </tr>\n",
       "    <tr>\n",
       "      <th>99440</th>\n",
       "      <td>274fa6071e5e17fe303b9748641082c8</td>\n",
       "      <td>84732c5050c01db9b23e19ba39899398</td>\n",
       "      <td>6703</td>\n",
       "      <td>cotia</td>\n",
       "      <td>SP</td>\n",
       "    </tr>\n",
       "  </tbody>\n",
       "</table>\n",
       "<p>99441 rows × 5 columns</p>\n",
       "</div>"
      ],
      "text/plain": [
       "                            customer_id                customer_unique_id  \\\n",
       "0      06b8999e2fba1a1fbc88172c00ba8bc7  861eff4711a542e4b93843c6dd7febb0   \n",
       "1      18955e83d337fd6b2def6b18a428ac77  290c77bc529b7ac935b93aa66c333dc3   \n",
       "2      4e7b3e00288586ebd08712fdd0374a03  060e732b5b29e8181a18229c7b0b2b5e   \n",
       "3      b2b6027bc5c5109e529d4dc6358b12c3  259dac757896d24d7702b9acbbff3f3c   \n",
       "4      4f2d8ab171c80ec8364f7c12e35b23ad  345ecd01c38d18a9036ed96c73b8d066   \n",
       "...                                 ...                               ...   \n",
       "99436  17ddf5dd5d51696bb3d7c6291687be6f  1a29b476fee25c95fbafc67c5ac95cf8   \n",
       "99437  e7b71a9017aa05c9a7fd292d714858e8  d52a67c98be1cf6a5c84435bd38d095d   \n",
       "99438  5e28dfe12db7fb50a4b2f691faecea5e  e9f50caf99f032f0bf3c55141f019d99   \n",
       "99439  56b18e2166679b8a959d72dd06da27f9  73c2643a0a458b49f58cea58833b192e   \n",
       "99440  274fa6071e5e17fe303b9748641082c8  84732c5050c01db9b23e19ba39899398   \n",
       "\n",
       "       customer_zip_code_prefix          customer_city customer_state  \n",
       "0                         14409                 franca             SP  \n",
       "1                          9790  sao bernardo do campo             SP  \n",
       "2                          1151              sao paulo             SP  \n",
       "3                          8775        mogi das cruzes             SP  \n",
       "4                         13056               campinas             SP  \n",
       "...                         ...                    ...            ...  \n",
       "99436                      3937              sao paulo             SP  \n",
       "99437                      6764        taboao da serra             SP  \n",
       "99438                     60115              fortaleza             CE  \n",
       "99439                     92120                 canoas             RS  \n",
       "99440                      6703                  cotia             SP  \n",
       "\n",
       "[99441 rows x 5 columns]"
      ]
     },
     "execution_count": 23,
     "metadata": {},
     "output_type": "execute_result"
    }
   ],
   "source": [
    "#query = \"\"\"\n",
    "#SELECT name\n",
    "#FROM sqlite_master\n",
    "#WHERE type = 'table'\n",
    "#\"\"\"\n",
    "\n",
    "#createw columns\n",
    "query = \"\"\"\n",
    "    SELECT * FROM customer\n",
    "\"\"\"\n",
    "\n",
    "table = pd.read_sql_query(query,conn)\n",
    "table"
   ]
  },
  {
   "cell_type": "markdown",
   "metadata": {},
   "source": [
    "# DROP"
   ]
  },
  {
   "cell_type": "code",
   "execution_count": 40,
   "metadata": {
    "ExecuteTime": {
     "end_time": "2021-09-17T22:40:49.804589Z",
     "start_time": "2021-09-17T22:40:49.772609Z"
    }
   },
   "outputs": [
    {
     "ename": "OperationalError",
     "evalue": "no such table: order_reviews",
     "output_type": "error",
     "traceback": [
      "\u001b[1;31m---------------------------------------------------------------------------\u001b[0m",
      "\u001b[1;31mOperationalError\u001b[0m                          Traceback (most recent call last)",
      "\u001b[1;32m<ipython-input-40-808282141c3b>\u001b[0m in \u001b[0;36m<module>\u001b[1;34m\u001b[0m\n\u001b[0;32m      6\u001b[0m \u001b[1;33m\u001b[0m\u001b[0m\n\u001b[0;32m      7\u001b[0m \u001b[0mconn\u001b[0m \u001b[1;33m=\u001b[0m \u001b[0msqlite3\u001b[0m\u001b[1;33m.\u001b[0m\u001b[0mconnect\u001b[0m\u001b[1;33m(\u001b[0m\u001b[1;34m'db_olist.sqlite'\u001b[0m\u001b[1;33m)\u001b[0m\u001b[1;33m\u001b[0m\u001b[1;33m\u001b[0m\u001b[0m\n\u001b[1;32m----> 8\u001b[1;33m \u001b[0mcursor\u001b[0m \u001b[1;33m=\u001b[0m \u001b[0mconn\u001b[0m\u001b[1;33m.\u001b[0m\u001b[0mexecute\u001b[0m\u001b[1;33m(\u001b[0m\u001b[0mquery\u001b[0m\u001b[1;33m)\u001b[0m\u001b[1;33m\u001b[0m\u001b[1;33m\u001b[0m\u001b[0m\n\u001b[0m\u001b[0;32m      9\u001b[0m \u001b[0mconn\u001b[0m\u001b[1;33m.\u001b[0m\u001b[0mcommit\u001b[0m\u001b[1;33m(\u001b[0m\u001b[1;33m)\u001b[0m\u001b[1;33m\u001b[0m\u001b[1;33m\u001b[0m\u001b[0m\n\u001b[0;32m     10\u001b[0m \u001b[0mconn\u001b[0m\u001b[1;33m.\u001b[0m\u001b[0mclose\u001b[0m\u001b[1;33m(\u001b[0m\u001b[1;33m)\u001b[0m\u001b[1;33m\u001b[0m\u001b[1;33m\u001b[0m\u001b[0m\n",
      "\u001b[1;31mOperationalError\u001b[0m: no such table: order_reviews"
     ]
    }
   ],
   "source": [
    "#drop table\n",
    "query = \"\"\"\n",
    "    DROP TABLE order_reviews\n",
    "    \n",
    "\"\"\"\n",
    "\n",
    "conn = sqlite3.connect('db_olist.sqlite')\n",
    "cursor = conn.execute(query)\n",
    "conn.commit()\n",
    "conn.close()"
   ]
  },
  {
   "cell_type": "code",
   "execution_count": null,
   "metadata": {},
   "outputs": [],
   "source": []
  },
  {
   "cell_type": "code",
   "execution_count": null,
   "metadata": {},
   "outputs": [],
   "source": []
  },
  {
   "cell_type": "code",
   "execution_count": null,
   "metadata": {},
   "outputs": [],
   "source": []
  }
 ],
 "metadata": {
  "kernelspec": {
   "display_name": "Python 3",
   "language": "python",
   "name": "python3"
  },
  "language_info": {
   "codemirror_mode": {
    "name": "ipython",
    "version": 3
   },
   "file_extension": ".py",
   "mimetype": "text/x-python",
   "name": "python",
   "nbconvert_exporter": "python",
   "pygments_lexer": "ipython3",
   "version": "3.8.5"
  }
 },
 "nbformat": 4,
 "nbformat_minor": 4
}
