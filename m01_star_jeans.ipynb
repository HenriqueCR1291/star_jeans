{
 "cells": [
  {
   "cell_type": "code",
   "execution_count": 1,
   "metadata": {
    "ExecuteTime": {
     "end_time": "2021-09-15T23:46:37.900513Z",
     "start_time": "2021-09-15T23:46:37.887457Z"
    }
   },
   "outputs": [],
   "source": [
    "#!pip install beautifulsoup4"
   ]
  },
  {
   "cell_type": "markdown",
   "metadata": {
    "heading_collapsed": true
   },
   "source": [
    "# Business Understanding"
   ]
  },
  {
   "cell_type": "markdown",
   "metadata": {
    "heading_collapsed": true,
    "hidden": true
   },
   "source": [
    "### 1 - Problema de Negócio\n",
    "    - Qual o melhor preço de venda para calças?\n",
    "    \n",
    "### Saída: (Produto Final)\n",
    "    1. A resposta para a pergunta\n",
    "        - Mediana dos preços dos concorrentes\n",
    "        \n",
    "    2. Formato da entrega\n",
    "        - Tabela ou gráfico\n",
    "        \n",
    "    3. Local da entrega\n",
    "        - App streamlit\n",
    "        \n",
    "### Processo (Passo a Passo)\n",
    "    1. Passo a passo para construir o cálculo da mediana ou média\n",
    "        - Realizar o cálculo da mediana sobre o produto, tipo e cor\n",
    "        \n",
    "    2. Definir o formato da entrega (visualizaçao, tabela, frase)\n",
    "        - Gráficos de barras com a mediana dos preços dos produtos, por tipo e cor dos últimos 30 dias.\n",
    "        - Tabela com as seguintes colunas: id | product_name | product_type | product_color | product_price\n",
    "        - Definiçao do schema: colunas e seu tipo\n",
    "        - Definição da infraestrutura de armazenamento (SQLITE3)\n",
    "        - Design do ETL (Scripts de Extração, Transformação e Carga)\n",
    "        - Planejamento de agendamento dos scripts (dependência entre os scripts)\n",
    "        - Fazer as visualizações\n",
    "        - Entrega do produto final\n",
    "        \n",
    "    3. Decidir o local de entrega (powerBi, telegram, email, streamlit, intranet)\n",
    "        - App com Streamlit      \n",
    "\n",
    "### Entrada (fonte de dados)\n",
    "    1. Fonte de dados:\n",
    "        - Site da H&M\n",
    "        - Site da Macys\n",
    "        \n",
    "    2. Ferramentas:\n",
    "        - Pyhton 3.8.0\n",
    "        - Bibliotecas de webscrapping (BS4, Selenium)\n",
    "        - Pycharm\n",
    "        - Jupyter Notebook (análises e prototipagens)\n",
    "        - Crontjob, Airflow\n",
    "        - Streamlit"
   ]
  },
  {
   "cell_type": "markdown",
   "metadata": {
    "hidden": true
   },
   "source": [
    "### 2 - Problema de Negócio\n",
    "    - Quantos tipos de calças e suas cores para o produto inicial?\n",
    "    \n",
    "### Saída: (Produto Final)\n",
    "    1. A resposta para a pergunta\n",
    "        - Tipos e cores de calças mais frequentes por concorrentes\n",
    "        \n",
    "    2. Formato da entrega\n",
    "        - Lista/Tabela/Gráfico\n",
    "        \n",
    "    3. Local da entrega\n",
    "        - App streamlit\n",
    "        \n",
    "### Processo (Passo a Passo)\n",
    "    1. Passo a passo para construir o cálculo da mediana ou média\n",
    "        - Realizar webscrapping identificando tipo e cor mais frequentes nos sites dos concorrentes\n",
    "        \n",
    "    2. Definir o formato da entrega (visualizaçao, tabela, frase)\n",
    "        - Gráficos de barras com a frequência dos produtos, por tipo e cor dos últimos 30 dias.\n",
    "        - Tabela com as seguintes colunas: id | product_name | product_type | product_color | supplier\n",
    "        - Definiçao do schema: colunas e seu tipo\n",
    "        - Definição da infraestrutura de armazenamento (SQLITE3)\n",
    "        - Design do ETL (Scripts de Extração, Transformação e Carga)\n",
    "        - Planejamento de agendamento dos scripts (dependência entre os scripts)\n",
    "        - Fazer as visualizações\n",
    "        - Entrega do produto final\n",
    "        \n",
    "    3. Decidir o local de entrega (powerBi, telegram, email, Streamlit, intranet)\n",
    "        - App com Streamlit      \n",
    "\n",
    "### Entrada (fonte de dados)\n",
    "    1. Fonte de dados:\n",
    "        - Site da H&M\n",
    "        - Site da Macys\n",
    "        \n",
    "    2. Ferramentas:\n",
    "        - Pyhton 3.8.0\n",
    "        - Bibliotecas de webscrapping (BS4, Selenium)\n",
    "        - Pycharm\n",
    "        - Jupyter Notebook (análises e prototipagens)\n",
    "        - Crontjob, Airflow\n",
    "        - Streamlit"
   ]
  },
  {
   "cell_type": "markdown",
   "metadata": {
    "hidden": true
   },
   "source": [
    "### 3 - Problema de Negócio\n",
    "    - Quais as matérias-primas para confecionar as calças?\n",
    "    \n",
    "### Saída: (Produto Final)\n",
    "    1. A resposta para a pergunta\n",
    "        - MP mais frequentes por tipo de calça\n",
    "        \n",
    "    2. Formato da entrega\n",
    "        - Lista/Tabela/Gráfico\n",
    "        \n",
    "    3. Local da entrega\n",
    "        - App streamlit\n",
    "        \n",
    "### Processo (Passo a Passo)\n",
    "    1. Passo a passo para construir o cálculo da mediana ou média\n",
    "        - Realizar webscrapping identificando as MP mais frequentes usadas por tipo de calças\n",
    "        \n",
    "    2. Definir o formato da entrega (visualizaçao, tabela, frase)\n",
    "        - Gráficos de barras com as MP dos produtos dos últimos 30 dias.\n",
    "        - Tabela com as seguintes colunas: id | product_name | product_type | product_composition\n",
    "        - Definiçao do schema: colunas e seu tipo\n",
    "        - Definição da infraestrutura de armazenamento (SQLITE3)\n",
    "        - Design do ETL (Scripts de Extração, Transformação e Carga)\n",
    "        - Planejamento de agendamento dos scripts (dependência entre os scripts)\n",
    "        - Fazer as visualizações\n",
    "        - Entrega do produto final\n",
    "        \n",
    "    3. Decidir o local de entrega (powerBi, telegram, email, Streamlit, intranet)\n",
    "        - App com Streamlit      \n",
    "\n",
    "### Entrada (fonte de dados)\n",
    "    1. Fonte de dados:\n",
    "        - Site da H&M\n",
    "        - Site da Macys\n",
    "        \n",
    "    2. Ferramentas:\n",
    "        - Pyhton 3.8.0\n",
    "        - Bibliotecas de webscrapping (BS4, Selenium)\n",
    "        - Pycharm\n",
    "        - Jupyter Notebook (análises e prototipagens)\n",
    "        - Crontjob, Airflow\n",
    "        - Streamlit"
   ]
  },
  {
   "cell_type": "markdown",
   "metadata": {},
   "source": [
    "# Showcase"
   ]
  },
  {
   "cell_type": "code",
   "execution_count": 2,
   "metadata": {
    "ExecuteTime": {
     "end_time": "2021-09-15T23:46:54.005337Z",
     "start_time": "2021-09-15T23:46:37.903508Z"
    }
   },
   "outputs": [],
   "source": [
    "import requests\n",
    "from bs4 import BeautifulSoup\n",
    "from datetime import datetime\n",
    "import pandas as pd\n",
    "import numpy as np\n",
    "import re"
   ]
  },
  {
   "cell_type": "code",
   "execution_count": 66,
   "metadata": {
    "ExecuteTime": {
     "end_time": "2021-09-16T00:15:29.863320Z",
     "start_time": "2021-09-16T00:15:29.457605Z"
    }
   },
   "outputs": [],
   "source": [
    "url = 'https://www2.hm.com/en_us/men/products/jeans.html'\n",
    "\n",
    "headers = {'User-Agent': 'Mozilla/5.0 (Windows NT 10.0; Win64; x64) AppleWebKit/537.36 (KHTML, like Gecko) Chrome/80.0.3987.149 Safari/537.36'}\n",
    "page = requests.get (url2, headers=headers)\n",
    "\n",
    "soup = BeautifulSoup (page.text, 'html.parser')"
   ]
  },
  {
   "cell_type": "code",
   "execution_count": 67,
   "metadata": {
    "ExecuteTime": {
     "end_time": "2021-09-16T00:15:30.021064Z",
     "start_time": "2021-09-16T00:15:29.988084Z"
    }
   },
   "outputs": [],
   "source": [
    "products = soup.find ('ul', class_= 'products-listing small')\n",
    "products_list = products.find_all ('article', class_ = 'hm-product-item')\n",
    "\n",
    "#product id\n",
    "products_id = [p.get('data-articlecode') for p in products_list]\n",
    "\n",
    "#product category\n",
    "products_category = [p.get('data-category') for p in products_list]"
   ]
  },
  {
   "cell_type": "code",
   "execution_count": 68,
   "metadata": {
    "ExecuteTime": {
     "end_time": "2021-09-16T00:15:30.571992Z",
     "start_time": "2021-09-16T00:15:30.546006Z"
    }
   },
   "outputs": [],
   "source": [
    "#products name\n",
    "products_list = products.find_all ('a', class_ = 'link')\n",
    "products_name = [p.get_text() for p in products_list]"
   ]
  },
  {
   "cell_type": "code",
   "execution_count": 69,
   "metadata": {
    "ExecuteTime": {
     "end_time": "2021-09-16T00:15:31.070150Z",
     "start_time": "2021-09-16T00:15:31.055159Z"
    }
   },
   "outputs": [],
   "source": [
    "#product price\n",
    "products_list = products.find_all ('span', class_ = 'price regular')\n",
    "products_price = [p.get_text() for p in products_list]"
   ]
  },
  {
   "cell_type": "code",
   "execution_count": 70,
   "metadata": {
    "ExecuteTime": {
     "end_time": "2021-09-16T00:15:31.713368Z",
     "start_time": "2021-09-16T00:15:31.683388Z"
    }
   },
   "outputs": [],
   "source": [
    "#dataframe\n",
    "data = pd.DataFrame([products_id, products_category, products_name, products_price]).T\n",
    "data.columns = ['product_id', 'product_category', 'product_name', 'product_price']\n",
    "\n",
    "#scrapy datetime\n",
    "data['scrapy_datetime'] = datetime.now().strftime('%Y-%m-%d %H: %M: %S')"
   ]
  },
  {
   "cell_type": "code",
   "execution_count": 71,
   "metadata": {
    "ExecuteTime": {
     "end_time": "2021-09-16T00:15:32.231406Z",
     "start_time": "2021-09-16T00:15:32.213418Z"
    }
   },
   "outputs": [
    {
     "data": {
      "text/html": [
       "<div>\n",
       "<style scoped>\n",
       "    .dataframe tbody tr th:only-of-type {\n",
       "        vertical-align: middle;\n",
       "    }\n",
       "\n",
       "    .dataframe tbody tr th {\n",
       "        vertical-align: top;\n",
       "    }\n",
       "\n",
       "    .dataframe thead th {\n",
       "        text-align: right;\n",
       "    }\n",
       "</style>\n",
       "<table border=\"1\" class=\"dataframe\">\n",
       "  <thead>\n",
       "    <tr style=\"text-align: right;\">\n",
       "      <th></th>\n",
       "      <th>product_id</th>\n",
       "      <th>product_category</th>\n",
       "      <th>product_name</th>\n",
       "      <th>product_price</th>\n",
       "      <th>scrapy_datetime</th>\n",
       "    </tr>\n",
       "  </thead>\n",
       "  <tbody>\n",
       "    <tr>\n",
       "      <th>0</th>\n",
       "      <td>0690449022</td>\n",
       "      <td>men_jeans_ripped</td>\n",
       "      <td>Skinny Jeans</td>\n",
       "      <td>$ 39.99</td>\n",
       "      <td>2021-09-15 21: 15: 31</td>\n",
       "    </tr>\n",
       "    <tr>\n",
       "      <th>1</th>\n",
       "      <td>0427159006</td>\n",
       "      <td>men_jeans_ripped</td>\n",
       "      <td>Trashed Skinny Jeans</td>\n",
       "      <td>$ 39.99</td>\n",
       "      <td>2021-09-15 21: 15: 31</td>\n",
       "    </tr>\n",
       "    <tr>\n",
       "      <th>2</th>\n",
       "      <td>0636207006</td>\n",
       "      <td>men_jeans_slim</td>\n",
       "      <td>Slim Jeans</td>\n",
       "      <td>$ 19.99</td>\n",
       "      <td>2021-09-15 21: 15: 31</td>\n",
       "    </tr>\n",
       "    <tr>\n",
       "      <th>3</th>\n",
       "      <td>0730863005</td>\n",
       "      <td>men_jeans_skinny</td>\n",
       "      <td>Skinny Jeans</td>\n",
       "      <td>$ 29.99</td>\n",
       "      <td>2021-09-15 21: 15: 31</td>\n",
       "    </tr>\n",
       "    <tr>\n",
       "      <th>4</th>\n",
       "      <td>0636207010</td>\n",
       "      <td>men_jeans_slim</td>\n",
       "      <td>Slim Jeans</td>\n",
       "      <td>$ 19.99</td>\n",
       "      <td>2021-09-15 21: 15: 31</td>\n",
       "    </tr>\n",
       "    <tr>\n",
       "      <th>...</th>\n",
       "      <td>...</td>\n",
       "      <td>...</td>\n",
       "      <td>...</td>\n",
       "      <td>...</td>\n",
       "      <td>...</td>\n",
       "    </tr>\n",
       "    <tr>\n",
       "      <th>67</th>\n",
       "      <td>0636207015</td>\n",
       "      <td>men_jeans_slim</td>\n",
       "      <td>Slim Jeans</td>\n",
       "      <td>$ 19.99</td>\n",
       "      <td>2021-09-15 21: 15: 31</td>\n",
       "    </tr>\n",
       "    <tr>\n",
       "      <th>68</th>\n",
       "      <td>0751994009</td>\n",
       "      <td>men_jeans_slim</td>\n",
       "      <td>Slim Jeans</td>\n",
       "      <td>$ 29.99</td>\n",
       "      <td>2021-09-15 21: 15: 31</td>\n",
       "    </tr>\n",
       "    <tr>\n",
       "      <th>69</th>\n",
       "      <td>0811993037</td>\n",
       "      <td>men_jeans_regular</td>\n",
       "      <td>Regular Jeans</td>\n",
       "      <td>$ 29.99</td>\n",
       "      <td>2021-09-15 21: 15: 31</td>\n",
       "    </tr>\n",
       "    <tr>\n",
       "      <th>70</th>\n",
       "      <td>0931747002</td>\n",
       "      <td>men_jeans_regular</td>\n",
       "      <td>Regular Tapered Jeans</td>\n",
       "      <td>$ 29.99</td>\n",
       "      <td>2021-09-15 21: 15: 31</td>\n",
       "    </tr>\n",
       "    <tr>\n",
       "      <th>71</th>\n",
       "      <td>0811993024</td>\n",
       "      <td>men_jeans_regular</td>\n",
       "      <td>Regular Jeans</td>\n",
       "      <td>$ 29.99</td>\n",
       "      <td>2021-09-15 21: 15: 31</td>\n",
       "    </tr>\n",
       "  </tbody>\n",
       "</table>\n",
       "<p>72 rows × 5 columns</p>\n",
       "</div>"
      ],
      "text/plain": [
       "    product_id   product_category           product_name product_price  \\\n",
       "0   0690449022   men_jeans_ripped           Skinny Jeans       $ 39.99   \n",
       "1   0427159006   men_jeans_ripped   Trashed Skinny Jeans       $ 39.99   \n",
       "2   0636207006     men_jeans_slim             Slim Jeans       $ 19.99   \n",
       "3   0730863005   men_jeans_skinny           Skinny Jeans       $ 29.99   \n",
       "4   0636207010     men_jeans_slim             Slim Jeans       $ 19.99   \n",
       "..         ...                ...                    ...           ...   \n",
       "67  0636207015     men_jeans_slim             Slim Jeans       $ 19.99   \n",
       "68  0751994009     men_jeans_slim             Slim Jeans       $ 29.99   \n",
       "69  0811993037  men_jeans_regular          Regular Jeans       $ 29.99   \n",
       "70  0931747002  men_jeans_regular  Regular Tapered Jeans       $ 29.99   \n",
       "71  0811993024  men_jeans_regular          Regular Jeans       $ 29.99   \n",
       "\n",
       "          scrapy_datetime  \n",
       "0   2021-09-15 21: 15: 31  \n",
       "1   2021-09-15 21: 15: 31  \n",
       "2   2021-09-15 21: 15: 31  \n",
       "3   2021-09-15 21: 15: 31  \n",
       "4   2021-09-15 21: 15: 31  \n",
       "..                    ...  \n",
       "67  2021-09-15 21: 15: 31  \n",
       "68  2021-09-15 21: 15: 31  \n",
       "69  2021-09-15 21: 15: 31  \n",
       "70  2021-09-15 21: 15: 31  \n",
       "71  2021-09-15 21: 15: 31  \n",
       "\n",
       "[72 rows x 5 columns]"
      ]
     },
     "execution_count": 71,
     "metadata": {},
     "output_type": "execute_result"
    }
   ],
   "source": [
    "data"
   ]
  },
  {
   "cell_type": "markdown",
   "metadata": {},
   "source": [
    "# Pagination"
   ]
  },
  {
   "cell_type": "code",
   "execution_count": 64,
   "metadata": {
    "ExecuteTime": {
     "end_time": "2021-09-16T00:15:19.176654Z",
     "start_time": "2021-09-16T00:15:18.668656Z"
    }
   },
   "outputs": [],
   "source": [
    "url = 'https://www2.hm.com/en_us/men/products/jeans.html'\n",
    "    \n",
    "headers = {'User-Agent': 'Mozilla/5.0 (Windows NT 10.0; Win64; x64) AppleWebKit/537.36 (KHTML, like Gecko) Chrome/80.0.3987.149 Safari/537.36'}\n",
    "page = requests.get (url, headers=headers)\n",
    "\n",
    "soup = BeautifulSoup (page.text, 'html.parser')"
   ]
  },
  {
   "cell_type": "code",
   "execution_count": 65,
   "metadata": {
    "ExecuteTime": {
     "end_time": "2021-09-16T00:15:19.304211Z",
     "start_time": "2021-09-16T00:15:19.278236Z"
    }
   },
   "outputs": [],
   "source": [
    "total_item = soup.find_all ('h2', class_='load-more-heading')[0].get('data-total')\n",
    "total_item\n",
    "\n",
    "page_number = np.round(int(total_item)/36)\n",
    "\n",
    "url2 = url + \"?page-size=\" + str(int(page_number*36))"
   ]
  },
  {
   "cell_type": "markdown",
   "metadata": {
    "heading_collapsed": true
   },
   "source": [
    "# One product"
   ]
  },
  {
   "cell_type": "code",
   "execution_count": 11,
   "metadata": {
    "ExecuteTime": {
     "end_time": "2021-09-15T23:46:57.188207Z",
     "start_time": "2021-09-15T23:46:56.703313Z"
    },
    "hidden": true
   },
   "outputs": [],
   "source": [
    "#API request\n",
    "url = 'https://www2.hm.com/en_us/productpage.0636207006.html'\n",
    "    \n",
    "headers = {'User-Agent': 'Mozilla/5.0 (Windows NT 10.0; Win64; x64) AppleWebKit/537.36 (KHTML, like Gecko) Chrome/80.0.3987.149 Safari/537.36'}\n",
    "page = requests.get (url, headers=headers)\n",
    "\n",
    "#beautiful soup object\n",
    "soup = BeautifulSoup (page.text, 'html.parser')"
   ]
  },
  {
   "cell_type": "code",
   "execution_count": 12,
   "metadata": {
    "ExecuteTime": {
     "end_time": "2021-09-15T23:46:57.220215Z",
     "start_time": "2021-09-15T23:46:57.190214Z"
    },
    "hidden": true
   },
   "outputs": [],
   "source": [
    "#color product\n",
    "product_list = soup.find_all('a', class_='filter-option miniature')\n",
    "product_color = [p.get('data-color') for p in product_list]\n",
    "\n",
    "product_id = [p.get('data-articlecode') for p in product_list]\n",
    "\n",
    "df_color = pd.DataFrame([product_id, product_color]).T\n",
    "df_color.columns = ['product_id', 'product_color']\n",
    "\n",
    "#generate style id + color id\n",
    "df_color['style_id'] = df_color['product_id'].apply(lambda x: x[:-3])\n",
    "df_color['color_id'] = df_color['product_id'].apply(lambda x: x[-3:])"
   ]
  },
  {
   "cell_type": "code",
   "execution_count": 13,
   "metadata": {
    "ExecuteTime": {
     "end_time": "2021-09-15T23:46:57.562321Z",
     "start_time": "2021-09-15T23:46:57.222212Z"
    },
    "hidden": true
   },
   "outputs": [],
   "source": [
    "product_composition_list = soup.find_all ('div', class_='pdp-description-list-item')\n",
    "product_composition = [list(filter(None, p.get_text().split('\\n'))) for p in product_composition_list]\n",
    "\n",
    "#rename df\n",
    "df_composition = pd.DataFrame(product_composition).T\n",
    "df_composition.columns = df_composition.iloc[0]\n",
    "\n",
    "#delete first row\n",
    "df_composition = df_composition.iloc[1:].fillna(method='ffill')\n",
    "\n",
    "#generate style id+color id\n",
    "df_composition['style_id'] = df_composition['Art. No.'].apply(lambda x: x[:-3])\n",
    "df_composition['color_id'] = df_composition['Art. No.'].apply(lambda x: x[-3:])\n",
    "\n",
    "#merge data color + decomposition\n",
    "data_sku = pd.merge(df_color, df_composition[['style_id', 'Fit', 'Composition']], how='left', on='style_id')"
   ]
  },
  {
   "cell_type": "markdown",
   "metadata": {},
   "source": [
    "# Multiple products"
   ]
  },
  {
   "cell_type": "code",
   "execution_count": 72,
   "metadata": {
    "ExecuteTime": {
     "end_time": "2021-09-16T00:17:51.125974Z",
     "start_time": "2021-09-16T00:15:54.440257Z"
    }
   },
   "outputs": [],
   "source": [
    "headers = {'User-Agent': 'Mozilla/5.0 (Windows NT 10.0; Win64; x64) AppleWebKit/537.36 (KHTML, like Gecko) Chrome/80.0.3987.149 Safari/537.36'}\n",
    "\n",
    "#unique features\n",
    "aux = []\n",
    "\n",
    "cols = ['Art. No.', 'Composition', 'Fit', 'Size']\n",
    "df_pattern = pd.DataFrame(columns=cols)\n",
    "\n",
    "#empty dataframe\n",
    "df_detail = pd.DataFrame()\n",
    "\n",
    "for i in range(len(data)):\n",
    "    #API request\n",
    "    url = 'https://www2.hm.com/en_us/productpage.' + data.loc[i, 'product_id'] + '.html'\n",
    "    \n",
    "    page = requests.get (url, headers=headers)\n",
    "    \n",
    "    #beautiful soup object\n",
    "    soup = BeautifulSoup (page.text, 'html.parser')\n",
    "    \n",
    "    \n",
    "    #color product\n",
    "    product_list = soup.find_all('a', class_='filter-option miniature')\n",
    "    product_color = [p.get('data-color') for p in product_list]\n",
    "    product_id = [p.get('data-articlecode') for p in product_list]\n",
    "    \n",
    "    df_color = pd.DataFrame([product_id, product_color]).T\n",
    "    df_color.columns = ['product_id', 'product_color']\n",
    "    \n",
    "    #generate style id + color id\n",
    "    df_color['style_id'] = df_color['product_id'].apply(lambda x: x[:-3])\n",
    "    df_color['color_id'] = df_color['product_id'].apply(lambda x: x[-3:])\n",
    "\n",
    "\n",
    "    product_composition_list = soup.find_all ('div', class_='pdp-description-list-item')\n",
    "    product_composition = [list(filter(None, p.get_text().split('\\n'))) for p in product_composition_list]\n",
    "\n",
    "    #rename df\n",
    "    df_composition = pd.DataFrame(product_composition).T\n",
    "    df_composition.columns = df_composition.iloc[0]\n",
    "\n",
    "    #delete first row\n",
    "    df_composition = df_composition.iloc[1:].fillna(method='ffill')\n",
    "\n",
    "    #garantee same size of attributes\n",
    "    df_composition = pd.concat([df_pattern, df_composition], axis=0)\n",
    "    \n",
    "    #generate style id+color id\n",
    "    df_composition['style_id'] = df_composition['Art. No.'].apply(lambda x: x[:-3])\n",
    "    df_composition['color_id'] = df_composition['Art. No.'].apply(lambda x: x[-3:])\n",
    "\n",
    "    aux = aux + df_composition.columns.tolist()\n",
    "    \n",
    "    #merge data color + decomposition\n",
    "    data_sku = pd.merge(df_color, df_composition[['style_id', 'Fit', 'Composition', 'Size']], how='left', on='style_id')\n",
    "    \n",
    "    #all products\n",
    "    df_detail = pd.concat([df_detail, data_sku], axis=0)"
   ]
  },
  {
   "cell_type": "code",
   "execution_count": 73,
   "metadata": {
    "ExecuteTime": {
     "end_time": "2021-09-16T00:17:54.560507Z",
     "start_time": "2021-09-16T00:17:54.532522Z"
    }
   },
   "outputs": [],
   "source": [
    "data['style_id'] = data['product_id'].apply(lambda x: x[:-3])\n",
    "data['color_id'] = data['product_id'].apply(lambda x: x[-3:])\n",
    "\n",
    "data_raw = pd.merge(data, df_detail[['style_id', 'product_color', 'Fit', 'Composition', 'Size']], how = 'left', on = 'style_id') "
   ]
  },
  {
   "cell_type": "code",
   "execution_count": 86,
   "metadata": {
    "ExecuteTime": {
     "end_time": "2021-09-16T00:28:08.412743Z",
     "start_time": "2021-09-16T00:28:08.378763Z"
    },
    "scrolled": true
   },
   "outputs": [
    {
     "data": {
      "text/html": [
       "<div>\n",
       "<style scoped>\n",
       "    .dataframe tbody tr th:only-of-type {\n",
       "        vertical-align: middle;\n",
       "    }\n",
       "\n",
       "    .dataframe tbody tr th {\n",
       "        vertical-align: top;\n",
       "    }\n",
       "\n",
       "    .dataframe thead th {\n",
       "        text-align: right;\n",
       "    }\n",
       "</style>\n",
       "<table border=\"1\" class=\"dataframe\">\n",
       "  <thead>\n",
       "    <tr style=\"text-align: right;\">\n",
       "      <th></th>\n",
       "      <th>product_id</th>\n",
       "      <th>product_category</th>\n",
       "      <th>product_name</th>\n",
       "      <th>product_price</th>\n",
       "      <th>scrapy_datetime</th>\n",
       "      <th>style_id</th>\n",
       "      <th>color_id</th>\n",
       "      <th>product_color</th>\n",
       "      <th>Fit</th>\n",
       "      <th>Composition</th>\n",
       "      <th>Size</th>\n",
       "    </tr>\n",
       "  </thead>\n",
       "  <tbody>\n",
       "    <tr>\n",
       "      <th>0</th>\n",
       "      <td>0690449022</td>\n",
       "      <td>men_jeans_ripped</td>\n",
       "      <td>Skinny Jeans</td>\n",
       "      <td>$ 39.99</td>\n",
       "      <td>2021-09-15 21: 15: 31</td>\n",
       "      <td>0690449</td>\n",
       "      <td>022</td>\n",
       "      <td>Light denim blue/trashed</td>\n",
       "      <td>Skinny fit</td>\n",
       "      <td>Lining: Polyester 100%</td>\n",
       "      <td>The model is 184cm/6'0\" and wears a size 31/32</td>\n",
       "    </tr>\n",
       "    <tr>\n",
       "      <th>1</th>\n",
       "      <td>0690449022</td>\n",
       "      <td>men_jeans_ripped</td>\n",
       "      <td>Skinny Jeans</td>\n",
       "      <td>$ 39.99</td>\n",
       "      <td>2021-09-15 21: 15: 31</td>\n",
       "      <td>0690449</td>\n",
       "      <td>022</td>\n",
       "      <td>Light denim blue/trashed</td>\n",
       "      <td>Skinny fit</td>\n",
       "      <td>Cotton 98%, Elastane 2%</td>\n",
       "      <td>The model is 184cm/6'0\" and wears a size 31/32</td>\n",
       "    </tr>\n",
       "    <tr>\n",
       "      <th>2</th>\n",
       "      <td>0690449022</td>\n",
       "      <td>men_jeans_ripped</td>\n",
       "      <td>Skinny Jeans</td>\n",
       "      <td>$ 39.99</td>\n",
       "      <td>2021-09-15 21: 15: 31</td>\n",
       "      <td>0690449</td>\n",
       "      <td>022</td>\n",
       "      <td>Denim blue</td>\n",
       "      <td>Skinny fit</td>\n",
       "      <td>Lining: Polyester 100%</td>\n",
       "      <td>The model is 184cm/6'0\" and wears a size 31/32</td>\n",
       "    </tr>\n",
       "    <tr>\n",
       "      <th>3</th>\n",
       "      <td>0690449022</td>\n",
       "      <td>men_jeans_ripped</td>\n",
       "      <td>Skinny Jeans</td>\n",
       "      <td>$ 39.99</td>\n",
       "      <td>2021-09-15 21: 15: 31</td>\n",
       "      <td>0690449</td>\n",
       "      <td>022</td>\n",
       "      <td>Denim blue</td>\n",
       "      <td>Skinny fit</td>\n",
       "      <td>Cotton 98%, Elastane 2%</td>\n",
       "      <td>The model is 184cm/6'0\" and wears a size 31/32</td>\n",
       "    </tr>\n",
       "    <tr>\n",
       "      <th>4</th>\n",
       "      <td>0690449022</td>\n",
       "      <td>men_jeans_ripped</td>\n",
       "      <td>Skinny Jeans</td>\n",
       "      <td>$ 39.99</td>\n",
       "      <td>2021-09-15 21: 15: 31</td>\n",
       "      <td>0690449</td>\n",
       "      <td>022</td>\n",
       "      <td>Black/washed</td>\n",
       "      <td>Skinny fit</td>\n",
       "      <td>Lining: Polyester 100%</td>\n",
       "      <td>The model is 184cm/6'0\" and wears a size 31/32</td>\n",
       "    </tr>\n",
       "    <tr>\n",
       "      <th>...</th>\n",
       "      <td>...</td>\n",
       "      <td>...</td>\n",
       "      <td>...</td>\n",
       "      <td>...</td>\n",
       "      <td>...</td>\n",
       "      <td>...</td>\n",
       "      <td>...</td>\n",
       "      <td>...</td>\n",
       "      <td>...</td>\n",
       "      <td>...</td>\n",
       "      <td>...</td>\n",
       "    </tr>\n",
       "    <tr>\n",
       "      <th>3888</th>\n",
       "      <td>0811993024</td>\n",
       "      <td>men_jeans_regular</td>\n",
       "      <td>Regular Jeans</td>\n",
       "      <td>$ 29.99</td>\n",
       "      <td>2021-09-15 21: 15: 31</td>\n",
       "      <td>0811993</td>\n",
       "      <td>024</td>\n",
       "      <td>Pale denim blue</td>\n",
       "      <td>Regular fit</td>\n",
       "      <td>Pocket lining: Cotton 100%</td>\n",
       "      <td>NaN</td>\n",
       "    </tr>\n",
       "    <tr>\n",
       "      <th>3889</th>\n",
       "      <td>0811993024</td>\n",
       "      <td>men_jeans_regular</td>\n",
       "      <td>Regular Jeans</td>\n",
       "      <td>$ 29.99</td>\n",
       "      <td>2021-09-15 21: 15: 31</td>\n",
       "      <td>0811993</td>\n",
       "      <td>024</td>\n",
       "      <td>Blue</td>\n",
       "      <td>Regular fit</td>\n",
       "      <td>Shell: Cotton 99%, Elastane 1%</td>\n",
       "      <td>NaN</td>\n",
       "    </tr>\n",
       "    <tr>\n",
       "      <th>3890</th>\n",
       "      <td>0811993024</td>\n",
       "      <td>men_jeans_regular</td>\n",
       "      <td>Regular Jeans</td>\n",
       "      <td>$ 29.99</td>\n",
       "      <td>2021-09-15 21: 15: 31</td>\n",
       "      <td>0811993</td>\n",
       "      <td>024</td>\n",
       "      <td>Blue</td>\n",
       "      <td>Regular fit</td>\n",
       "      <td>Pocket lining: Cotton 100%</td>\n",
       "      <td>NaN</td>\n",
       "    </tr>\n",
       "    <tr>\n",
       "      <th>3891</th>\n",
       "      <td>0811993024</td>\n",
       "      <td>men_jeans_regular</td>\n",
       "      <td>Regular Jeans</td>\n",
       "      <td>$ 29.99</td>\n",
       "      <td>2021-09-15 21: 15: 31</td>\n",
       "      <td>0811993</td>\n",
       "      <td>024</td>\n",
       "      <td>Dark blue</td>\n",
       "      <td>Regular fit</td>\n",
       "      <td>Shell: Cotton 99%, Elastane 1%</td>\n",
       "      <td>NaN</td>\n",
       "    </tr>\n",
       "    <tr>\n",
       "      <th>3892</th>\n",
       "      <td>0811993024</td>\n",
       "      <td>men_jeans_regular</td>\n",
       "      <td>Regular Jeans</td>\n",
       "      <td>$ 29.99</td>\n",
       "      <td>2021-09-15 21: 15: 31</td>\n",
       "      <td>0811993</td>\n",
       "      <td>024</td>\n",
       "      <td>Dark blue</td>\n",
       "      <td>Regular fit</td>\n",
       "      <td>Pocket lining: Cotton 100%</td>\n",
       "      <td>NaN</td>\n",
       "    </tr>\n",
       "  </tbody>\n",
       "</table>\n",
       "<p>3893 rows × 11 columns</p>\n",
       "</div>"
      ],
      "text/plain": [
       "      product_id   product_category   product_name product_price  \\\n",
       "0     0690449022   men_jeans_ripped   Skinny Jeans       $ 39.99   \n",
       "1     0690449022   men_jeans_ripped   Skinny Jeans       $ 39.99   \n",
       "2     0690449022   men_jeans_ripped   Skinny Jeans       $ 39.99   \n",
       "3     0690449022   men_jeans_ripped   Skinny Jeans       $ 39.99   \n",
       "4     0690449022   men_jeans_ripped   Skinny Jeans       $ 39.99   \n",
       "...          ...                ...            ...           ...   \n",
       "3888  0811993024  men_jeans_regular  Regular Jeans       $ 29.99   \n",
       "3889  0811993024  men_jeans_regular  Regular Jeans       $ 29.99   \n",
       "3890  0811993024  men_jeans_regular  Regular Jeans       $ 29.99   \n",
       "3891  0811993024  men_jeans_regular  Regular Jeans       $ 29.99   \n",
       "3892  0811993024  men_jeans_regular  Regular Jeans       $ 29.99   \n",
       "\n",
       "            scrapy_datetime style_id color_id             product_color  \\\n",
       "0     2021-09-15 21: 15: 31  0690449      022  Light denim blue/trashed   \n",
       "1     2021-09-15 21: 15: 31  0690449      022  Light denim blue/trashed   \n",
       "2     2021-09-15 21: 15: 31  0690449      022                Denim blue   \n",
       "3     2021-09-15 21: 15: 31  0690449      022                Denim blue   \n",
       "4     2021-09-15 21: 15: 31  0690449      022              Black/washed   \n",
       "...                     ...      ...      ...                       ...   \n",
       "3888  2021-09-15 21: 15: 31  0811993      024           Pale denim blue   \n",
       "3889  2021-09-15 21: 15: 31  0811993      024                      Blue   \n",
       "3890  2021-09-15 21: 15: 31  0811993      024                      Blue   \n",
       "3891  2021-09-15 21: 15: 31  0811993      024                 Dark blue   \n",
       "3892  2021-09-15 21: 15: 31  0811993      024                 Dark blue   \n",
       "\n",
       "              Fit                     Composition  \\\n",
       "0      Skinny fit          Lining: Polyester 100%   \n",
       "1      Skinny fit         Cotton 98%, Elastane 2%   \n",
       "2      Skinny fit          Lining: Polyester 100%   \n",
       "3      Skinny fit         Cotton 98%, Elastane 2%   \n",
       "4      Skinny fit          Lining: Polyester 100%   \n",
       "...           ...                             ...   \n",
       "3888  Regular fit      Pocket lining: Cotton 100%   \n",
       "3889  Regular fit  Shell: Cotton 99%, Elastane 1%   \n",
       "3890  Regular fit      Pocket lining: Cotton 100%   \n",
       "3891  Regular fit  Shell: Cotton 99%, Elastane 1%   \n",
       "3892  Regular fit      Pocket lining: Cotton 100%   \n",
       "\n",
       "                                                Size  \n",
       "0     The model is 184cm/6'0\" and wears a size 31/32  \n",
       "1     The model is 184cm/6'0\" and wears a size 31/32  \n",
       "2     The model is 184cm/6'0\" and wears a size 31/32  \n",
       "3     The model is 184cm/6'0\" and wears a size 31/32  \n",
       "4     The model is 184cm/6'0\" and wears a size 31/32  \n",
       "...                                              ...  \n",
       "3888                                             NaN  \n",
       "3889                                             NaN  \n",
       "3890                                             NaN  \n",
       "3891                                             NaN  \n",
       "3892                                             NaN  \n",
       "\n",
       "[3893 rows x 11 columns]"
      ]
     },
     "execution_count": 86,
     "metadata": {},
     "output_type": "execute_result"
    }
   ],
   "source": [
    "data_raw"
   ]
  },
  {
   "cell_type": "code",
   "execution_count": 97,
   "metadata": {
    "ExecuteTime": {
     "end_time": "2021-09-16T00:59:52.807946Z",
     "start_time": "2021-09-16T00:59:52.789955Z"
    }
   },
   "outputs": [
    {
     "data": {
      "text/plain": [
       "array(['Lining: Polyester 100%', 'Cotton 98%, Elastane 2%',\n",
       "       'Pocket lining: Polyester 65%, Cotton 35%',\n",
       "       'Cotton 93%, Polyester 6%, Elastane 1%',\n",
       "       'Cotton 88%, Polyester 10%, Elastane 2%',\n",
       "       'Pocket lining: Cotton 100%',\n",
       "       'Cotton 89%, Polyester 10%, Elastane 1%',\n",
       "       'Cotton 99%, Elastane 1%',\n",
       "       'Cotton 73%, Polyester 26%, Elastane 1%',\n",
       "       'Cotton 90%, Polyester 8%, Elastane 2%',\n",
       "       'Shell: Cotton 99%, Elastane 1%',\n",
       "       'Pocket lining: Polyester 63%, Cotton 37%',\n",
       "       'Shell: Cotton 98%, Elastane 2%',\n",
       "       'Cotton 90%, Elasterell-P 8%, Elastane 2%',\n",
       "       'Cotton 78%, Polyester 21%, Elastane 1%',\n",
       "       'Cotton 77%, Polyester 21%, Elastane 2%', 'Pocket: Cotton 100%',\n",
       "       'Shell: Cotton 100%', nan, 'Cotton 100%',\n",
       "       'Shell: Cotton 89%, Polyester 10%, Elastane 1%',\n",
       "       'Shell: Cotton 87%, Polyester 12%, Elastane 1%'], dtype=object)"
      ]
     },
     "execution_count": 97,
     "metadata": {},
     "output_type": "execute_result"
    }
   ],
   "source": [
    "data_raw['Composition'].unique()"
   ]
  },
  {
   "cell_type": "code",
   "execution_count": 75,
   "metadata": {
    "ExecuteTime": {
     "end_time": "2021-09-16T00:17:58.916370Z",
     "start_time": "2021-09-16T00:17:58.908373Z"
    }
   },
   "outputs": [
    {
     "data": {
      "text/plain": [
       "(3893, 11)"
      ]
     },
     "execution_count": 75,
     "metadata": {},
     "output_type": "execute_result"
    }
   ],
   "source": [
    "data_raw.shape"
   ]
  },
  {
   "cell_type": "code",
   "execution_count": 76,
   "metadata": {
    "ExecuteTime": {
     "end_time": "2021-09-16T00:18:00.982204Z",
     "start_time": "2021-09-16T00:18:00.961217Z"
    }
   },
   "outputs": [
    {
     "data": {
      "text/plain": [
       "product_id          object\n",
       "product_category    object\n",
       "product_name        object\n",
       "product_price       object\n",
       "scrapy_datetime     object\n",
       "style_id            object\n",
       "color_id            object\n",
       "product_color       object\n",
       "Fit                 object\n",
       "Composition         object\n",
       "Size                object\n",
       "dtype: object"
      ]
     },
     "execution_count": 76,
     "metadata": {},
     "output_type": "execute_result"
    }
   ],
   "source": [
    "data_raw.dtypes"
   ]
  },
  {
   "cell_type": "markdown",
   "metadata": {},
   "source": [
    "# Cleaning"
   ]
  },
  {
   "cell_type": "code",
   "execution_count": 162,
   "metadata": {
    "ExecuteTime": {
     "end_time": "2021-09-16T02:09:01.867658Z",
     "start_time": "2021-09-16T02:09:01.771698Z"
    }
   },
   "outputs": [
    {
     "data": {
      "text/plain": [
       "(2279, 14)"
      ]
     },
     "execution_count": 162,
     "metadata": {},
     "output_type": "execute_result"
    }
   ],
   "source": [
    "data = data_raw\n",
    "#product id\n",
    "data = data.dropna(subset=['product_id'])\n",
    "\n",
    "#product name\n",
    "data['product_name'] = data['product_name'].apply(lambda x: x.replace(' ','_').lower())\n",
    "\n",
    "#product_price\n",
    "data['product_price'] = data['product_price'].apply(lambda x: x.replace('$', '')).astype(float)\n",
    "\n",
    "#scrapy datetime\n",
    "data['scrapy_datetime'] = pd.to_datetime(data['scrapy_datetime'], format='%Y-%m-%d  %H: %M: %S')\n",
    "\n",
    "#style id\n",
    "data['style_id'] = data['style_id'].astype(int)\n",
    "\n",
    "#color id\n",
    "data['color_id'] = data['color_id'].astype(int)\n",
    "\n",
    "#color name\n",
    "data['product_color'] = data['product_color'].apply(lambda x: x.replace(' ', '_').replace('/', '_').lower() if pd.notnull(x) else x)\n",
    "\n",
    "#fit\n",
    "data['fit'] = data['Fit'].apply(lambda x: x.replace(' ','_').lower() if pd.notnull(x) else x)\n",
    "\n",
    "#size number\n",
    "data['size_number'] = data['Size'].apply(lambda x: re.search('\\d{3}cm', x).group(0) if pd.notnull(x) else x)\n",
    "data['size_number'] = data['size_number'].apply(lambda x: re.search('\\d+', x).group(0) if pd.notnull(x) else x)\n",
    "\n",
    "#size model\n",
    "data['size_model'] = data['Size'].str.extract('(\\d+/\\\\d+)')\n",
    "\n",
    "#composition\n",
    "data = data[~data['Composition'].str.contains('Pocket lining:', na=False)]\n",
    "data = data[~data['Composition'].str.contains('Lining:', na=False)]\n",
    "data = data[~data['Composition'].str.contains('Shell:', na=False)]\n",
    "data = data[~data['Composition'].str.contains('Pocket:', na=False)]\n",
    "\n",
    "data.shape"
   ]
  },
  {
   "cell_type": "code",
   "execution_count": 163,
   "metadata": {
    "ExecuteTime": {
     "end_time": "2021-09-16T02:09:02.370939Z",
     "start_time": "2021-09-16T02:09:02.304802Z"
    }
   },
   "outputs": [],
   "source": [
    "#drop duplicates\n",
    "data = data.drop_duplicates(subset=['product_id', 'product_category', 'product_name', 'product_price',\n",
    "       'scrapy_datetime', 'style_id', 'color_id', 'product_color', 'Fit'], keep='last')\n",
    "\n",
    "#reset index\n",
    "data = data.reset_index(drop=True)\n",
    "\n",
    "#break composition by comma\n",
    "df1 = data['Composition'].str.split(',', expand=True)\n",
    "\n",
    "#cotton | polyester | elastane | elasterell\n",
    "df_ref = pd.DataFrame(index=np.arange(len(data)),  columns=['cotton', 'polyester', 'elastane', 'elasterell'])\n",
    "\n",
    "#cotton\n",
    "df_cotton = df1[0]\n",
    "df_cotton.name = 'cotton'\n",
    "\n",
    "df_ref = pd.concat([df_ref, df_cotton], axis=1)\n",
    "df_ref = df_ref.iloc[:, ~df_ref.columns.duplicated(keep='last')]\n",
    "#df_ref['cotton'] = df_ref['cotton'].fillna=('Cotton 0%')\n",
    "\n",
    "#polyester\n",
    "df_polyester = df1.loc[df1[1].str.contains('Polyester', na=True),1]\n",
    "df_polyester.name = 'polyester'\n",
    "\n",
    "df_ref = pd.concat([df_ref, df_polyester], axis=1)\n",
    "df_ref = df_ref.iloc[:, ~df_ref.columns.duplicated(keep='last')]\n",
    "#df_ref['polyester'] = df_ref['polyester'].fillna=('Polyester 0%')\n",
    "\n",
    "#elastane\n",
    "df_elastane = df1.loc[df1[1].str.contains('Elastane', na=True),1]\n",
    "df_elastane.name = 'elastane'\n",
    "\n",
    "#combine elastane from both columns 1 and 2\n",
    "df_elastane = df_elastane.combine_first(df1[2])\n",
    "\n",
    "df_ref = pd.concat([df_ref, df_elastane], axis=1)\n",
    "df_ref = df_ref.iloc[:, ~df_ref.columns.duplicated(keep='last')]\n",
    "#df_ref['elastane'] = df_ref['elastane'].fillna=('Elastane 0%')\n",
    "\n",
    "#elasterell\n",
    "df_elasterell = df1.loc[df1[1].str.contains('Elasterell-P', na=True),1]\n",
    "df_elasterell.name = 'elasterell'\n",
    "\n",
    "df_ref = pd.concat([df_ref, df_elasterell], axis=1)\n",
    "df_ref = df_ref.iloc[:, ~df_ref.columns.duplicated(keep='last')]\n",
    "#df_ref['elasterell'] = df_ref['elasterell'].fillna=('Elasterell-P 0%')\n",
    "\n",
    "#join dfs\n",
    "data = pd.concat([data, df_ref], axis=1)\n",
    "\n",
    "#format composition\n",
    "data['cotton'] = data['cotton'].apply(lambda x: int(re.search('\\d+', x).group(0))/100 if pd.notnull(x) else x)\n",
    "data['polyester'] = data['polyester'].apply(lambda x: int(re.search('\\d+', x).group(0))/100 if pd.notnull(x) else x)\n",
    "data['elastane'] = data['elastane'].apply(lambda x: int(re.search('\\d+', x).group(0))/100 if pd.notnull(x) else x)\n",
    "data['elasterell'] = data['elasterell'].apply(lambda x: int(re.search('\\d+', x).group(0))/100 if pd.notnull(x) else x)\n",
    "\n",
    "data['composition'] = data['Composition']\n",
    "data = data.drop(columns=['Size', 'Fit', 'Composition'], axis=1)"
   ]
  },
  {
   "cell_type": "code",
   "execution_count": 164,
   "metadata": {
    "ExecuteTime": {
     "end_time": "2021-09-16T02:09:02.842816Z",
     "start_time": "2021-09-16T02:09:02.814834Z"
    }
   },
   "outputs": [
    {
     "data": {
      "text/html": [
       "<div>\n",
       "<style scoped>\n",
       "    .dataframe tbody tr th:only-of-type {\n",
       "        vertical-align: middle;\n",
       "    }\n",
       "\n",
       "    .dataframe tbody tr th {\n",
       "        vertical-align: top;\n",
       "    }\n",
       "\n",
       "    .dataframe thead th {\n",
       "        text-align: right;\n",
       "    }\n",
       "</style>\n",
       "<table border=\"1\" class=\"dataframe\">\n",
       "  <thead>\n",
       "    <tr style=\"text-align: right;\">\n",
       "      <th></th>\n",
       "      <th>product_id</th>\n",
       "      <th>product_category</th>\n",
       "      <th>product_name</th>\n",
       "      <th>product_price</th>\n",
       "      <th>scrapy_datetime</th>\n",
       "      <th>style_id</th>\n",
       "      <th>color_id</th>\n",
       "      <th>product_color</th>\n",
       "      <th>fit</th>\n",
       "      <th>size_number</th>\n",
       "      <th>size_model</th>\n",
       "      <th>cotton</th>\n",
       "      <th>polyester</th>\n",
       "      <th>elastane</th>\n",
       "      <th>elasterell</th>\n",
       "      <th>composition</th>\n",
       "    </tr>\n",
       "  </thead>\n",
       "  <tbody>\n",
       "    <tr>\n",
       "      <th>67</th>\n",
       "      <td>0720504008</td>\n",
       "      <td>men_jeans_skinny</td>\n",
       "      <td>skinny_jeans</td>\n",
       "      <td>24.99</td>\n",
       "      <td>2021-09-15 21:15:31</td>\n",
       "      <td>720504</td>\n",
       "      <td>8</td>\n",
       "      <td>dark_blue</td>\n",
       "      <td>skinny_fit</td>\n",
       "      <td>NaN</td>\n",
       "      <td>NaN</td>\n",
       "      <td>0.90</td>\n",
       "      <td>0.08</td>\n",
       "      <td>0.02</td>\n",
       "      <td>NaN</td>\n",
       "      <td>Cotton 90%, Polyester 8%, Elastane 2%</td>\n",
       "    </tr>\n",
       "    <tr>\n",
       "      <th>58</th>\n",
       "      <td>0636207010</td>\n",
       "      <td>men_jeans_slim</td>\n",
       "      <td>slim_jeans</td>\n",
       "      <td>19.99</td>\n",
       "      <td>2021-09-15 21:15:31</td>\n",
       "      <td>636207</td>\n",
       "      <td>10</td>\n",
       "      <td>white</td>\n",
       "      <td>slim_fit</td>\n",
       "      <td>NaN</td>\n",
       "      <td>NaN</td>\n",
       "      <td>0.89</td>\n",
       "      <td>0.10</td>\n",
       "      <td>0.01</td>\n",
       "      <td>NaN</td>\n",
       "      <td>Cotton 89%, Polyester 10%, Elastane 1%</td>\n",
       "    </tr>\n",
       "    <tr>\n",
       "      <th>119</th>\n",
       "      <td>0636207011</td>\n",
       "      <td>men_jeans_slim</td>\n",
       "      <td>slim_jeans</td>\n",
       "      <td>19.99</td>\n",
       "      <td>2021-09-15 21:15:31</td>\n",
       "      <td>636207</td>\n",
       "      <td>11</td>\n",
       "      <td>dark_denim_blue</td>\n",
       "      <td>slim_fit</td>\n",
       "      <td>NaN</td>\n",
       "      <td>NaN</td>\n",
       "      <td>0.89</td>\n",
       "      <td>0.10</td>\n",
       "      <td>0.01</td>\n",
       "      <td>NaN</td>\n",
       "      <td>Cotton 89%, Polyester 10%, Elastane 1%</td>\n",
       "    </tr>\n",
       "    <tr>\n",
       "      <th>288</th>\n",
       "      <td>0811993031</td>\n",
       "      <td>men_jeans_regular</td>\n",
       "      <td>regular_jeans</td>\n",
       "      <td>29.99</td>\n",
       "      <td>2021-09-15 21:15:31</td>\n",
       "      <td>811993</td>\n",
       "      <td>31</td>\n",
       "      <td>denim_blue</td>\n",
       "      <td>regular_fit</td>\n",
       "      <td>182</td>\n",
       "      <td>31/32</td>\n",
       "      <td>0.99</td>\n",
       "      <td>NaN</td>\n",
       "      <td>0.01</td>\n",
       "      <td>NaN</td>\n",
       "      <td>Cotton 99%, Elastane 1%</td>\n",
       "    </tr>\n",
       "  </tbody>\n",
       "</table>\n",
       "</div>"
      ],
      "text/plain": [
       "     product_id   product_category   product_name  product_price  \\\n",
       "67   0720504008   men_jeans_skinny   skinny_jeans          24.99   \n",
       "58   0636207010     men_jeans_slim     slim_jeans          19.99   \n",
       "119  0636207011     men_jeans_slim     slim_jeans          19.99   \n",
       "288  0811993031  men_jeans_regular  regular_jeans          29.99   \n",
       "\n",
       "        scrapy_datetime  style_id  color_id    product_color          fit  \\\n",
       "67  2021-09-15 21:15:31    720504         8        dark_blue   skinny_fit   \n",
       "58  2021-09-15 21:15:31    636207        10            white     slim_fit   \n",
       "119 2021-09-15 21:15:31    636207        11  dark_denim_blue     slim_fit   \n",
       "288 2021-09-15 21:15:31    811993        31       denim_blue  regular_fit   \n",
       "\n",
       "    size_number size_model  cotton  polyester  elastane  elasterell  \\\n",
       "67          NaN        NaN    0.90       0.08      0.02         NaN   \n",
       "58          NaN        NaN    0.89       0.10      0.01         NaN   \n",
       "119         NaN        NaN    0.89       0.10      0.01         NaN   \n",
       "288         182      31/32    0.99        NaN      0.01         NaN   \n",
       "\n",
       "                                composition  \n",
       "67    Cotton 90%, Polyester 8%, Elastane 2%  \n",
       "58   Cotton 89%, Polyester 10%, Elastane 1%  \n",
       "119  Cotton 89%, Polyester 10%, Elastane 1%  \n",
       "288                 Cotton 99%, Elastane 1%  "
      ]
     },
     "execution_count": 164,
     "metadata": {},
     "output_type": "execute_result"
    }
   ],
   "source": [
    "data.sample(4)"
   ]
  },
  {
   "cell_type": "code",
   "execution_count": 136,
   "metadata": {
    "ExecuteTime": {
     "end_time": "2021-09-16T01:54:15.730942Z",
     "start_time": "2021-09-16T01:54:15.713954Z"
    }
   },
   "outputs": [],
   "source": [
    "#data.apply(lambda x: len(x.unique()))\n",
    "\n",
    "#aux1 = data[data['product_id']== '0690449022'].sort_values('product_color')\n",
    "#aux1"
   ]
  },
  {
   "cell_type": "code",
   "execution_count": 137,
   "metadata": {
    "ExecuteTime": {
     "end_time": "2021-09-16T01:54:15.903186Z",
     "start_time": "2021-09-16T01:54:15.894193Z"
    }
   },
   "outputs": [],
   "source": [
    "#df1[df1[0].isna()]\n",
    "#data.loc[511,:]\n",
    "#aux1 = data[data['product_id']== '0690449022']"
   ]
  },
  {
   "cell_type": "code",
   "execution_count": null,
   "metadata": {},
   "outputs": [],
   "source": []
  }
 ],
 "metadata": {
  "kernelspec": {
   "display_name": "Python 3",
   "language": "python",
   "name": "python3"
  },
  "language_info": {
   "codemirror_mode": {
    "name": "ipython",
    "version": 3
   },
   "file_extension": ".py",
   "mimetype": "text/x-python",
   "name": "python",
   "nbconvert_exporter": "python",
   "pygments_lexer": "ipython3",
   "version": "3.8.5"
  }
 },
 "nbformat": 4,
 "nbformat_minor": 4
}
